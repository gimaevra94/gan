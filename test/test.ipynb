{
  "cells": [
    {
      "cell_type": "code",
      "execution_count": null,
      "id": "0c668a48",
      "metadata": {
        "scrolled": false,
        "id": "0c668a48"
      },
      "outputs": [],
      "source": [
        "import tensorflow as tf\n",
        "import matplotlib.pyplot as plt\n",
        "\n",
        "!wget https://github.com/gimaevra94/gan/raw/main/test/model.h5\n",
        "\n",
        "model=tf.keras.models.load_model('model.h5')\n",
        "gen_imgs = model(tf.random.normal([1, 200]), training=False)\n",
        "plt.imshow(gen_imgs[0,...],cmap='gray')"
      ]
    }
  ],
  "metadata": {
    "kernelspec": {
      "display_name": "Python 3 (ipykernel)",
      "language": "python",
      "name": "python3"
    },
    "language_info": {
      "codemirror_mode": {
        "name": "ipython",
        "version": 3
      },
      "file_extension": ".py",
      "mimetype": "text/x-python",
      "name": "python",
      "nbconvert_exporter": "python",
      "pygments_lexer": "ipython3",
      "version": "3.11.5"
    },
    "colab": {
      "provenance": []
    }
  },
  "nbformat": 4,
  "nbformat_minor": 5
}